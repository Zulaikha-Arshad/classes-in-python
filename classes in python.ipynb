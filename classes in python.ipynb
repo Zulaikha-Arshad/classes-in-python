{
 "cells": [
  {
   "cell_type": "code",
   "execution_count": 1,
   "id": "a83edb4b-1e79-4ffe-a89f-12d9d6d2b32a",
   "metadata": {},
   "outputs": [],
   "source": [
    "#Name Zulaikha Arshad"
   ]
  },
  {
   "cell_type": "code",
   "execution_count": 3,
   "id": "d2688405-bfb6-42b2-8cc3-afb1d737fe29",
   "metadata": {},
   "outputs": [],
   "source": [
    "#Question no 1:"
   ]
  },
  {
   "cell_type": "code",
   "execution_count": 18,
   "id": "879eac10-45ab-4f1e-8411-209fd0244260",
   "metadata": {},
   "outputs": [
    {
     "name": "stdout",
     "output_type": "stream",
     "text": [
      "my name is Zulaikha\n",
      "ny age is 18\n",
      "my city name is Lahore\n"
     ]
    }
   ],
   "source": [
    "class person:\n",
    "    def __init__(self,name,age,city):\n",
    "       self.name=name\n",
    "       self.age=age\n",
    "       self.city=city\n",
    "    def my_name(self):\n",
    "       print(f\"my name is {self.name}\")\n",
    "    def my_age(self):\n",
    "       print(f\"my age is {self.age}\")\n",
    "    def my_city(self):\n",
    "       print(f\"my city name is {self.city}\")\n",
    "intro=person('Zulaikha',18,'Lahore')\n",
    "intro.my_name()\n",
    "intro.my_age()\n",
    "intro.my_city()"
   ]
  },
  {
   "cell_type": "code",
   "execution_count": null,
   "id": "a56eb7e8-04ef-443a-9732-7d7d3e071963",
   "metadata": {},
   "outputs": [],
   "source": [
    "#Question 2"
   ]
  },
  {
   "cell_type": "code",
   "execution_count": 24,
   "id": "d8435402-19e9-4fd9-9624-890ea650c4c3",
   "metadata": {},
   "outputs": [
    {
     "name": "stdout",
     "output_type": "stream",
     "text": [
      "my car makes by toyota\n",
      "my car is corolla\n",
      "my car's model is corolla\n"
     ]
    }
   ],
   "source": [
    "class car:\n",
    "    def __init__(self,make,model,year):\n",
    "        self.make=make\n",
    "        self.model=model\n",
    "        self.year=year\n",
    "my_caar=car('toyota','corolla',2022)\n",
    "print(f\"my car makes by {my_caar.make}\")\n",
    "print(f\"my car is {my_caar.model}\")\n",
    "print(f\"my car's model is {my_caar.model}\")"
   ]
  },
  {
   "cell_type": "code",
   "execution_count": 40,
   "id": "cf54cfc5-296e-41db-b368-f33814ec86eb",
   "metadata": {},
   "outputs": [
    {
     "name": "stdout",
     "output_type": "stream",
     "text": [
      "area: 175.84\n",
      "circumference: 351.68\n"
     ]
    }
   ],
   "source": [
    "class circle:\n",
    "    def __init__(self,radius):\n",
    "        self.radius=radius\n",
    "    def area(self):\n",
    "        area=3.14*self.radius\n",
    "        print('area:',area)\n",
    "    def circumference(self):\n",
    "        circumference=2*3.14*self.radius\n",
    "        print(\"circumference:\",circumference)\n",
    "my_circle=circle(56)        \n",
    "my_circle.area()\n",
    "my_circle.circumference()"
   ]
  },
  {
   "cell_type": "code",
   "execution_count": 50,
   "id": "e652f58f-f219-4bf6-82af-58b4928f8a32",
   "metadata": {},
   "outputs": [
    {
     "name": "stdout",
     "output_type": "stream",
     "text": [
      "area: 59202\n",
      "perimeter: 936\n"
     ]
    }
   ],
   "source": [
    "class rectangle:\n",
    "    def __init__(self,length,width):\n",
    "       self.length=length\n",
    "       self.width=width\n",
    "    def area(self):\n",
    "        area=self.length*self.width\n",
    "        print(\"area:\",area)\n",
    "    def perimeter(self):\n",
    "        perimeter=4*self.length\n",
    "        print(\"perimeter:\",perimeter)\n",
    "my_rectangle=rectangle(234,253)\n",
    "my_rectangle.area()\n",
    "my_rectangle.perimeter()"
   ]
  },
  {
   "cell_type": "code",
   "execution_count": 58,
   "id": "a74aed9e-2d67-4d22-9f91-613d60a6df34",
   "metadata": {},
   "outputs": [
    {
     "name": "stdout",
     "output_type": "stream",
     "text": [
      "average: 8981.75\n"
     ]
    }
   ],
   "source": [
    "class average:\n",
    "    def __init__(self,name,roll_no,marks):\n",
    "          self.name=name\n",
    "          self.roll_no=roll_no\n",
    "          self.marks=marks\n",
    "    def avg(self):  \n",
    "        average_marks=sum(self.marks)/len(self.marks)\n",
    "        print(\"average:\",average_marks)\n",
    "avg_marks=average('zulaikha',93,[32543,254,2376,754])\n",
    "avg_marks.avg()"
   ]
  },
  {
   "cell_type": "code",
   "execution_count": 66,
   "id": "217d372e-b1e9-4446-a586-e53b7fb37fb1",
   "metadata": {},
   "outputs": [
    {
     "name": "stdout",
     "output_type": "stream",
     "text": [
      "book name is peer e kamil\n",
      "author name is Umera Ahmed\n",
      "it published in 2004\n"
     ]
    }
   ],
   "source": [
    "class book:\n",
    "    def __init__(self,title,author,publisher_year):\n",
    "       self.title=title\n",
    "       self.author=author\n",
    "       self.publisher_year=publisher_year\n",
    "    def book_name(self):\n",
    "       print(f\"book name is {self.title}\")\n",
    "    def author_name(self):\n",
    "       print(f\"author name is {self.author}\")\n",
    "    def publisher(self):\n",
    "       print(f\"it published in {self.publisher_year}\")\n",
    "intro=book('peer e kamil','Umera Ahmed',2004)\n",
    "intro.book_name()\n",
    "intro.author_name()\n",
    "intro.publisher()"
   ]
  },
  {
   "cell_type": "code",
   "execution_count": 72,
   "id": "c2c23946-05d3-4de1-b1d1-754d4af40abe",
   "metadata": {},
   "outputs": [
    {
     "name": "stdout",
     "output_type": "stream",
     "text": [
      "my name is Zulaikha\n",
      "salary is 1800\n",
      "designation is Data analyst\n"
     ]
    }
   ],
   "source": [
    "class employee:\n",
    "    def __init__(self,name,salary,designation):\n",
    "       self.name=name\n",
    "       self.salary=salary\n",
    "       self.designation=designation\n",
    "    def employee_name(self):\n",
    "       print(f\"my name is {self.name}\")\n",
    "    def employee_salary(self):\n",
    "       print(f\"salary is {self.salary}\")\n",
    "    def employee_designation(self):\n",
    "       print(f\"designation is {self.designation}\")\n",
    "intro=employee('Zulaikha',1800,'Data analyst')\n",
    "intro.employee_name()\n",
    "intro.employee_salary()\n",
    "intro.employee_designation()"
   ]
  },
  {
   "cell_type": "code",
   "execution_count": 84,
   "id": "49e69f9b-e8ea-4732-9f72-fb5cfd7c7658",
   "metadata": {},
   "outputs": [
    {
     "name": "stdout",
     "output_type": "stream",
     "text": [
      "deposited_amount 123\n",
      "my balance is 2312\n"
     ]
    }
   ],
   "source": [
    "class bank:\n",
    "    def __init__(self,name, account_number,balance):\n",
    "        self.name=name\n",
    "        self.account_number=account_number\n",
    "        self.balance=balance\n",
    "    def deposit(self,amount):\n",
    "        self.amount=amount\n",
    "        print(\"deposited_amount\",self.amount)\n",
    "    def withdraw(self):\n",
    "        total_balance=self.balance-self.amount\n",
    "        print(f\"my balance is {total_balance}\")\n",
    "bankkk=bank('Zulaikah',1233454657,2435)\n",
    "bankkk.deposit(123)\n",
    "bankkk.withdraw()"
   ]
  },
  {
   "cell_type": "code",
   "execution_count": null,
   "id": "f1a6b71c-5019-4c46-9b3e-47be8e63d498",
   "metadata": {},
   "outputs": [],
   "source": []
  }
 ],
 "metadata": {
  "kernelspec": {
   "display_name": "Python 3 (ipykernel)",
   "language": "python",
   "name": "python3"
  },
  "language_info": {
   "codemirror_mode": {
    "name": "ipython",
    "version": 3
   },
   "file_extension": ".py",
   "mimetype": "text/x-python",
   "name": "python",
   "nbconvert_exporter": "python",
   "pygments_lexer": "ipython3",
   "version": "3.12.4"
  }
 },
 "nbformat": 4,
 "nbformat_minor": 5
}
